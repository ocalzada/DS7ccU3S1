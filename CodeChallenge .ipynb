{
 "cells": [
  {
   "cell_type": "code",
   "execution_count": 13,
   "metadata": {},
   "outputs": [],
   "source": [
    "import time\n",
    "import numpy as np\n",
    "import pandas as pd"
   ]
  },
  {
   "cell_type": "markdown",
   "metadata": {},
   "source": [
    "- There is a data dir which contains two txt files\n",
    "- Use your GoogleFu to figure out how to use Python to open these files \n",
    "- Save \"books_published \"books_published_last_two_years.txt\" in the variable \"recent_books\"\n",
    "- Save \"all_coding_books.txt\" in the variable \"coding_books\""
   ]
  },
  {
   "cell_type": "code",
   "execution_count": 14,
   "metadata": {},
   "outputs": [],
   "source": [
    "with open(\"Data/all_coding_books.txt\") as file:\n",
    "         coding_books = file.read().split(\"\\n\")\n",
    "\n",
    "with open(\"Data/books_published_last_two_years.txt\") as file:\n",
    "         recent_books = file.read().split(\"\\n\")"
   ]
  },
  {
   "cell_type": "markdown",
   "metadata": {},
   "source": [
    "Print how many books each file has"
   ]
  },
  {
   "cell_type": "code",
   "execution_count": 15,
   "metadata": {},
   "outputs": [
    {
     "name": "stdout",
     "output_type": "stream",
     "text": [
      "Number of Books in recent books: 24159\n",
      "\n",
      "Number of Books in coding books: 32250\n"
     ]
    }
   ],
   "source": [
    "# Your code here\n",
    "print(f'Number of Books in recent books: {len(recent_books)}')\n",
    "print(\"\")\n",
    "print(f'Number of Books in coding books: {len(coding_books)}')\n"
   ]
  },
  {
   "cell_type": "markdown",
   "metadata": {},
   "source": [
    "Problem: Using a loop, find which books \"recent_books\" and \"coding_books\" have in common (time how long it takes)."
   ]
  },
  {
   "cell_type": "code",
   "execution_count": 16,
   "metadata": {},
   "outputs": [
    {
     "name": "stdout",
     "output_type": "stream",
     "text": [
      "96\n",
      "Execution time: 15.160990953445435\n"
     ]
    }
   ],
   "source": [
    "# Starter code\n",
    "start = time.time() # This allows you to time the code\n",
    "\n",
    "# Your code here\n",
    "recent_and_coding_books = []\n",
    "\n",
    "for book in recent_books:\n",
    "    if book in coding_books:\n",
    "        recent_and_coding_books.append(book)\n",
    "\n",
    "print(len(recent_and_coding_books))\n",
    "\n",
    "\n",
    "print(f\"Execution time: {time.time() - start}\")"
   ]
  },
  {
   "cell_type": "markdown",
   "metadata": {},
   "source": [
    "Problem: Can you think of a way to make this code run faster? Anything YOU (emphaiss on you!!) can think of is fair game (time your code)."
   ]
  },
  {
   "cell_type": "code",
   "execution_count": 19,
   "metadata": {},
   "outputs": [
    {
     "name": "stdout",
     "output_type": "stream",
     "text": [
      "96\n",
      "Execution time: 0.04093790054321289\n"
     ]
    }
   ],
   "source": [
    "start = time.time()\n",
    "\n",
    "# Your code here\n",
    "recent_and_coding_books = np.intersect1d(coding_books, recent_books)\n",
    "\n",
    "print(len(recent_and_coding_books))\n",
    "\n",
    "\n",
    "print(f\"Execution time: {time.time() - start}\")"
   ]
  },
  {
   "cell_type": "code",
   "execution_count": 21,
   "metadata": {},
   "outputs": [
    {
     "name": "stdout",
     "output_type": "stream",
     "text": [
      "96\n",
      "Execution time: 0.015787839889526367\n"
     ]
    }
   ],
   "source": [
    "start = time.time()\n",
    "\n",
    "\n",
    "recent_and_coding_books = set(recent_books).intersection(set(coding_books))\n",
    "\n",
    "print(len(recent_and_coding_books))\n",
    "\n",
    "\n",
    "\n",
    "\n",
    "\n",
    "print(f'Execution time: {time.time() - start}')"
   ]
  },
  {
   "cell_type": "code",
   "execution_count": null,
   "metadata": {},
   "outputs": [],
   "source": []
  }
 ],
 "metadata": {
  "kernelspec": {
   "display_name": "Python 3",
   "language": "python",
   "name": "python3"
  },
  "language_info": {
   "codemirror_mode": {
    "name": "ipython",
    "version": 3
   },
   "file_extension": ".py",
   "mimetype": "text/x-python",
   "name": "python",
   "nbconvert_exporter": "python",
   "pygments_lexer": "ipython3",
   "version": "3.7.4"
  }
 },
 "nbformat": 4,
 "nbformat_minor": 2
}
